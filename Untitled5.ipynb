{
 "cells": [
  {
   "cell_type": "code",
   "execution_count": 27,
   "id": "985b75ba",
   "metadata": {},
   "outputs": [],
   "source": [
    "# 8.1 Change string resperentation of instance\n",
    "class Pair:\n",
    "    def __init__(self, x, y):\n",
    "        self.x = x\n",
    "        self.y = y\n",
    "    def __repr__(self):\n",
    "        return 'Pair(%r, %r)'%(self.x,self.y)\n",
    "#         return 'Pair({0.x!r}, {0.y!r})'.format(self) format {0.x}: x attribute of arg 0\n",
    "    def __str__(self):\n",
    "        return '(%s,%s)'%(self.x,self.y)\n",
    "#         return '({0.x!s}, {0.y!s})'.format(self)"
   ]
  },
  {
   "cell_type": "code",
   "execution_count": 28,
   "id": "35b91fea",
   "metadata": {},
   "outputs": [],
   "source": [
    "pair = Pair(3,2)"
   ]
  },
  {
   "cell_type": "code",
   "execution_count": 29,
   "id": "4b51eec3",
   "metadata": {},
   "outputs": [
    {
     "name": "stdout",
     "output_type": "stream",
     "text": [
      "(3,2)\n"
     ]
    }
   ],
   "source": [
    "print(pair)"
   ]
  },
  {
   "cell_type": "code",
   "execution_count": 30,
   "id": "8350c401",
   "metadata": {},
   "outputs": [
    {
     "data": {
      "text/plain": [
       "Pair(3, 2)"
      ]
     },
     "execution_count": 30,
     "metadata": {},
     "output_type": "execute_result"
    }
   ],
   "source": [
    "pair"
   ]
  },
  {
   "cell_type": "code",
   "execution_count": 31,
   "id": "3f2cf1cd",
   "metadata": {},
   "outputs": [
    {
     "data": {
      "text/plain": [
       "'Pair(3, 2)'"
      ]
     },
     "execution_count": 31,
     "metadata": {},
     "output_type": "execute_result"
    }
   ],
   "source": [
    "repr(pair)"
   ]
  },
  {
   "cell_type": "code",
   "execution_count": 43,
   "id": "0c7d8ce0",
   "metadata": {},
   "outputs": [],
   "source": [
    "8.2 \n",
    "_formats = {\n",
    "    'ymd' : '{d.year}-{d.month}-{d.day}',\n",
    "    'mdy' : '{d.month}/{d.day}/{d.year}',\n",
    "    'dmy' : '{d.day}/{d.month}/{d.year}'\n",
    "}\n",
    "class Date:\n",
    "    def __init__(self, year, month, day):\n",
    "        self.year = year\n",
    "        self.month = month\n",
    "        self.day = day\n",
    "    # Define how format method works. Format implementation is defined entirely up to the class based on code\n",
    "    def __format__(self, code):\n",
    "        if code == '':\n",
    "            code = 'ymd'\n",
    "        fmt = _formats[code]\n",
    "        return fmt.format(d=self)\n"
   ]
  },
  {
   "cell_type": "code",
   "execution_count": 44,
   "id": "5421c3be",
   "metadata": {},
   "outputs": [],
   "source": [
    "d = Date(2000,3,29)"
   ]
  },
  {
   "cell_type": "code",
   "execution_count": 45,
   "id": "fed9e55a",
   "metadata": {},
   "outputs": [
    {
     "data": {
      "text/plain": [
       "'3/29/2000'"
      ]
     },
     "execution_count": 45,
     "metadata": {},
     "output_type": "execute_result"
    }
   ],
   "source": [
    "format(d,'mdy')"
   ]
  },
  {
   "cell_type": "code",
   "execution_count": 47,
   "id": "9f9289c2",
   "metadata": {},
   "outputs": [
    {
     "data": {
      "text/plain": [
       "'The date is 29/3/2000'"
      ]
     },
     "execution_count": 47,
     "metadata": {},
     "output_type": "execute_result"
    }
   ],
   "source": [
    "'The date is {:dmy}'.format(d)"
   ]
  },
  {
   "cell_type": "code",
   "execution_count": 48,
   "id": "e6ae8727",
   "metadata": {},
   "outputs": [
    {
     "data": {
      "text/plain": [
       "'The date is 2000-3-29'"
      ]
     },
     "execution_count": 48,
     "metadata": {},
     "output_type": "execute_result"
    }
   ],
   "source": [
    "'The date is {:ymd}'.format(d)"
   ]
  },
  {
   "cell_type": "code",
   "execution_count": 1,
   "id": "3f23b94e",
   "metadata": {},
   "outputs": [],
   "source": [
    "#8.3\n",
    "from socket import socket, AF_INET, SOCK_STREAM\n",
    "class LazyConnection:\n",
    "    def __init__(self, address, family=AF_INET, type=SOCK_STREAM):\n",
    "        self.address = address\n",
    "        self.family = AF_INET\n",
    "        self.type = SOCK_STREAM\n",
    "        self.sock = None\n",
    "    def __enter__(self):\n",
    "        if self.sock is not None:\n",
    "            raise RuntimeError('Already connected')\n",
    "        self.sock = socket(self.family, self.type)\n",
    "        self.sock.connect(self.address)\n",
    "        return self.sock\n",
    "    def __exit__(self, exc_ty, exc_val, tb):\n",
    "        self.sock.close()\n",
    "        self.sock = None\n",
    "        "
   ]
  },
  {
   "cell_type": "code",
   "execution_count": 2,
   "id": "9b363482",
   "metadata": {},
   "outputs": [],
   "source": [
    "#8.4 slots\n",
    "_formats = {\n",
    "    'ymd' : '{d.year}-{d.month}-{d.day}',\n",
    "    'mdy' : '{d.month}/{d.day}/{d.year}',\n",
    "    'dmy' : '{d.day}/{d.month}/{d.year}'\n",
    "}\n",
    "class Date:\n",
    "    __slots__=['year','month','day'] # reduce mem footprint, cannot add new attributes to instance but only use ones in __slots__\n",
    "    def __init__(self, year, month, day):\n",
    "        self.year = year\n",
    "        self.month = month\n",
    "        self.day = day\n",
    "    # Define how format method works. Format implementation is defined entirely up to the class based on code\n",
    "    def __format__(self, code):\n",
    "        if code == '':\n",
    "            code = 'ymd'\n",
    "        fmt = _formats[code]\n",
    "        return fmt.format(d=self)"
   ]
  },
  {
   "cell_type": "code",
   "execution_count": 57,
   "id": "c648f00d",
   "metadata": {},
   "outputs": [
    {
     "name": "stdout",
     "output_type": "stream",
     "text": [
      "Internal method used\n"
     ]
    }
   ],
   "source": [
    "# 8.5 Encapsulation\n",
    "# _method and _var means internal implementation\n",
    "class A:\n",
    "    def __init__(self):\n",
    "        self._internal = 0 # An internal attribute\n",
    "        self.public = 1 # A public attribute\n",
    "    def public_method(self):\n",
    "        '''\n",
    "        A public method\n",
    "        '''\n",
    "        print(\"Public method used\")\n",
    "        self._internal_method() # better practice to run internal method\n",
    "    def _internal_method(self):\n",
    "        '''\n",
    "        An internal method\n",
    "        '''\n",
    "        print(\"Internal method used\")\n",
    "        \n",
    "# __private use __ for inheritance, attr cannot be overrriden if instance.__private was init diff than class.__private\n",
    "B=A()\n",
    "B.public_method()"
   ]
  },
  {
   "cell_type": "code",
   "execution_count": 50,
   "id": "e7a341cf",
   "metadata": {},
   "outputs": [],
   "source": [
    "# 8.6 Managed attributes\n",
    "# Use property\n",
    "\n",
    "class Person:\n",
    "    def __init__(self, first_name):\n",
    "        self.first_name = first_name\n",
    "        self.last_name = last_name\n",
    "# Getter function\n",
    "    @property\n",
    "    def first_name(self):\n",
    "        return self._first_name\n",
    "    @property\n",
    "    def last_name(self):\n",
    "        return self._last_name\n",
    "# Setter function\n",
    "    @first_name.setter\n",
    "    def first_name(self, value):\n",
    "        if not isinstance(value, str):\n",
    "            raise TypeError('Expected a string')\n",
    "        self._first_name = value\n",
    "    @last_name.setter\n",
    "    def last_name(self, value):\n",
    "        if not isinstance(value, str):\n",
    "            raise TypeError('Expected a string')\n",
    "        self._first_name = value\n",
    "# Deleter function (optional)\n",
    "    @first_name.deleter\n",
    "    def first_name(self):\n",
    "        raise AttributeError(\"Can't delete attribute\")\n"
   ]
  },
  {
   "cell_type": "code",
   "execution_count": 4,
   "id": "c03f44ce",
   "metadata": {},
   "outputs": [],
   "source": [
    "# 8.7\n",
    "class Amogus:\n",
    "    def action(self):\n",
    "        print('Amogus doing things')\n",
    "class Imposter(Amogus):\n",
    "    def action(self):\n",
    "        print('Sabotaging')\n",
    "        super().action() # Call action of parent class (superclass)"
   ]
  },
  {
   "cell_type": "code",
   "execution_count": 8,
   "id": "461487c2",
   "metadata": {},
   "outputs": [],
   "source": [
    "# 8.8\n",
    "class Amogus:\n",
    "    def __init__(self,name):\n",
    "        self.name=name\n",
    "    def action(self):\n",
    "        print('Amogus doing things')\n",
    "    #Getter\n",
    "    @property\n",
    "    def name(self):\n",
    "        return self._name\n",
    "    # Setter function\n",
    "    @name.setter\n",
    "    def name(self, value):\n",
    "        if not isinstance(value, str):\n",
    "            raise TypeError('Expected a string')\n",
    "        self._name = value\n",
    "    # Deleter function\n",
    "    @name.deleter\n",
    "    def name(self):\n",
    "            raise AttributeError(\"Can't delete attribute\")\n",
    "class Imposter(Amogus):\n",
    "    def action(self):\n",
    "        print('Sabotaging')\n",
    "        super().action() # Call action of parent class (superclass)\n",
    "    @property\n",
    "    def name(self):\n",
    "        print('My name is: ')\n",
    "        return super().name\n",
    "    @name.setter\n",
    "    def name(self, value):\n",
    "        print('Setting name to: ', value)\n",
    "        super(SubPerson, SubPerson).name.__set__(self, value)\n",
    "    @name.deleter\n",
    "    def name(self):\n",
    "        print('Deleting name')\n",
    "        super(SubPerson, SubPerson).name.__delete__(self)"
   ]
  },
  {
   "cell_type": "code",
   "execution_count": 3,
   "id": "4f305d33",
   "metadata": {},
   "outputs": [],
   "source": [
    "# 8.9\n",
    "# Instance attr with desciptor class\n",
    "class Amogus:\n",
    "    def __init__(self, name):\n",
    "        self.name=name\n",
    "    def __get__(self):\n",
    "        return self.name\n",
    "    def __set__(self,value):\n",
    "        if not isinstance(value, string):\n",
    "            raise TypeError('Expected a string')\n",
    "        self.name = value\n",
    "    "
   ]
  },
  {
   "cell_type": "code",
   "execution_count": 5,
   "id": "dfe361dc",
   "metadata": {},
   "outputs": [
    {
     "data": {
      "text/plain": [
       "'red crewmate'"
      ]
     },
     "execution_count": 5,
     "metadata": {},
     "output_type": "execute_result"
    }
   ],
   "source": [
    "red = Amogus(\"red crewmate\")\n",
    "red.name"
   ]
  },
  {
   "cell_type": "code",
   "execution_count": 7,
   "id": "5a3d311c",
   "metadata": {},
   "outputs": [
    {
     "data": {
      "text/plain": [
       "'blue crewmate'"
      ]
     },
     "execution_count": 7,
     "metadata": {},
     "output_type": "execute_result"
    }
   ],
   "source": [
    "red.name = \"blue crewmate\"\n",
    "red.name"
   ]
  },
  {
   "cell_type": "code",
   "execution_count": 11,
   "id": "8db4f0ab",
   "metadata": {},
   "outputs": [],
   "source": [
    "# 8.10  lazy compute properties (compute on access), improve performance\n",
    "class lazyproperty:\n",
    "    def __init__(self, func):\n",
    "        self.func = func\n",
    "    def __get__(self, instance, cls):\n",
    "        if instance is None:\n",
    "            return self\n",
    "        else:\n",
    "            value = self.func(instance)\n",
    "            setattr(instance, self.func.__name__, value)\n",
    "            return value\n",
    "import math\n",
    "class Square:\n",
    "    def __init__(self, width):\n",
    "        self.width = width\n",
    "        \n",
    "    @lazyproperty #compute area when requested\n",
    "    def area(self):\n",
    "        print('Computing area')\n",
    "        return self.width ** 2\n"
   ]
  },
  {
   "cell_type": "code",
   "execution_count": 16,
   "id": "194e9988",
   "metadata": {},
   "outputs": [
    {
     "ename": "NameError",
     "evalue": "name 'self' is not defined",
     "output_type": "error",
     "traceback": [
      "\u001b[1;31m---------------------------------------------------------------------------\u001b[0m",
      "\u001b[1;31mNameError\u001b[0m                                 Traceback (most recent call last)",
      "\u001b[1;32m~\\AppData\\Local\\Temp/ipykernel_23576/2300062049.py\u001b[0m in \u001b[0;36m<module>\u001b[1;34m\u001b[0m\n\u001b[0;32m      1\u001b[0m \u001b[1;31m# 8.11 Simplifying init of data structures\u001b[0m\u001b[1;33m\u001b[0m\u001b[1;33m\u001b[0m\u001b[0m\n\u001b[1;32m----> 2\u001b[1;33m \u001b[1;32mclass\u001b[0m \u001b[0mStructure\u001b[0m\u001b[1;33m:\u001b[0m\u001b[1;33m\u001b[0m\u001b[1;33m\u001b[0m\u001b[0m\n\u001b[0m\u001b[0;32m      3\u001b[0m     \u001b[0m_fields\u001b[0m\u001b[1;33m=\u001b[0m\u001b[1;33m[\u001b[0m \u001b[1;33m]\u001b[0m\u001b[1;33m\u001b[0m\u001b[1;33m\u001b[0m\u001b[0m\n\u001b[0;32m      4\u001b[0m \u001b[1;31m# Class variable that specifies expected fields\u001b[0m\u001b[1;33m\u001b[0m\u001b[1;33m\u001b[0m\u001b[0m\n\u001b[0;32m      5\u001b[0m \u001b[1;33m\u001b[0m\u001b[0m\n",
      "\u001b[1;32m~\\AppData\\Local\\Temp/ipykernel_23576/2300062049.py\u001b[0m in \u001b[0;36mStructure\u001b[1;34m()\u001b[0m\n\u001b[0;32m      8\u001b[0m             \u001b[1;32mraise\u001b[0m \u001b[0mTypeError\u001b[0m\u001b[1;33m(\u001b[0m\u001b[1;34m'Expected {} arguments'\u001b[0m\u001b[1;33m.\u001b[0m\u001b[0mformat\u001b[0m\u001b[1;33m(\u001b[0m\u001b[0mlen\u001b[0m\u001b[1;33m(\u001b[0m\u001b[0mself\u001b[0m\u001b[1;33m.\u001b[0m\u001b[0m_fields\u001b[0m\u001b[1;33m)\u001b[0m\u001b[1;33m)\u001b[0m\u001b[1;33m)\u001b[0m\u001b[1;33m\u001b[0m\u001b[1;33m\u001b[0m\u001b[0m\n\u001b[0;32m      9\u001b[0m     \u001b[1;31m# Set the arguments\u001b[0m\u001b[1;33m\u001b[0m\u001b[1;33m\u001b[0m\u001b[0m\n\u001b[1;32m---> 10\u001b[1;33m     \u001b[1;32mfor\u001b[0m \u001b[0mname\u001b[0m\u001b[1;33m,\u001b[0m \u001b[0mvalue\u001b[0m \u001b[1;32min\u001b[0m \u001b[0mzip\u001b[0m\u001b[1;33m(\u001b[0m\u001b[0mself\u001b[0m\u001b[1;33m.\u001b[0m\u001b[0m_fields\u001b[0m\u001b[1;33m,\u001b[0m \u001b[0margs\u001b[0m\u001b[1;33m)\u001b[0m\u001b[1;33m:\u001b[0m\u001b[1;33m\u001b[0m\u001b[1;33m\u001b[0m\u001b[0m\n\u001b[0m\u001b[0;32m     11\u001b[0m         \u001b[0msetattr\u001b[0m\u001b[1;33m(\u001b[0m\u001b[0mself\u001b[0m\u001b[1;33m,\u001b[0m \u001b[0mname\u001b[0m\u001b[1;33m,\u001b[0m \u001b[0mvalue\u001b[0m\u001b[1;33m)\u001b[0m\u001b[1;33m\u001b[0m\u001b[1;33m\u001b[0m\u001b[0m\n\u001b[0;32m     12\u001b[0m     \u001b[1;32mif\u001b[0m \u001b[0m__name__\u001b[0m \u001b[1;33m==\u001b[0m \u001b[1;34m'__main__'\u001b[0m\u001b[1;33m:\u001b[0m\u001b[1;33m\u001b[0m\u001b[1;33m\u001b[0m\u001b[0m\n",
      "\u001b[1;31mNameError\u001b[0m: name 'self' is not defined"
     ]
    }
   ],
   "source": [
    "# 8.11 Simplifying init of data structures\n",
    "class Structure:\n",
    "    _fields=[ ]\n",
    "# Class variable that specifies expected fields\n",
    "    \n",
    "    def __init__(self, *args):\n",
    "        if len(args) != len(self._fields):\n",
    "            raise TypeError('Expected {} arguments'.format(len(self._fields)))\n",
    "    # Set the arguments\n",
    "    for name, value in zip(self._fields, args):\n",
    "        setattr(self, name, value)\n",
    "    if __name__ == '__main__':\n",
    "        class Stock(Structure):\n",
    "            _fields = ['name', 'shares', 'price']\n",
    "        class Point(Structure):\n",
    "            _fields = ['x','y']\n",
    "        class Circle(Structure):\n",
    "            _fields = ['radius']\n",
    "            def area(self):\n",
    "                return math.pi * self.radius ** 2"
   ]
  },
  {
   "cell_type": "code",
   "execution_count": 8,
   "id": "b52c8a18",
   "metadata": {},
   "outputs": [],
   "source": [
    "# 8.12 Define interface/abstract class\n",
    "\n",
    "from abc import ABCMeta, abstractmethod # import abc module for abstract base class\n",
    "class IStream(metaclass=ABCMeta):\n",
    "    @abstractmethod # appear after other func definition (@keyword) if\n",
    "    def read(self, maxbytes=-1):\n",
    "        pass\n",
    "    @abstractmethod\n",
    "    def write(self, data):\n",
    "        pass\n",
    "# implement class:\n",
    "class SocketStream(IStream):\n",
    "    def read(self, maxbytes=-1):\n",
    "        ...\n",
    "    def write(self, data):\n",
    "        ..."
   ]
  },
  {
   "cell_type": "code",
   "execution_count": 17,
   "id": "c5fb3663",
   "metadata": {},
   "outputs": [],
   "source": [
    "# 8.13 Desciptor\n",
    "class Ten:\n",
    "    def __get__(self, obj, objtype=None):\n",
    "        return 10\n",
    "a = Ten() # print(a) return 10"
   ]
  },
  {
   "cell_type": "code",
   "execution_count": 18,
   "id": "6822dc83",
   "metadata": {},
   "outputs": [],
   "source": [
    "# 8.14 Implment custom containters, mimic common built in container\n",
    "# Ex: a custom Iterable\n",
    "import collections\n",
    "class UselessIter(collections.abc.Iterable):\n",
    "    def __iter__():# needs to be init to be valid\n",
    "        return \"Lol this doesnt work\""
   ]
  },
  {
   "cell_type": "code",
   "execution_count": 19,
   "id": "70cef576",
   "metadata": {},
   "outputs": [],
   "source": [
    " a = UselessIter()"
   ]
  },
  {
   "cell_type": "code",
   "execution_count": 20,
   "id": "19a52ecf",
   "metadata": {},
   "outputs": [],
   "source": [
    "# 8.15. Delegating Attribute Access\n",
    "# Alternate of inheritance or proxy\n",
    "class A:\n",
    "    def spam(self, x):\n",
    "        print(f\"LOLOLOL\")\n",
    "class B:\n",
    "    def __init__(self):\n",
    "        self._a = A()\n",
    "    def spam(self,x):\n",
    "        return self._a.spam(x)"
   ]
  },
  {
   "cell_type": "code",
   "execution_count": 1,
   "id": "9f7ee6a4",
   "metadata": {},
   "outputs": [],
   "source": [
    "# 8.16 2+ constructors in a class\n",
    "import time\n",
    "class Date:\n",
    "# Primary constructor\n",
    "    def __init__(self, year, month, day):\n",
    "        self.year = year\n",
    "        self.month = month\n",
    "        self.day = day\n",
    "# Alternate constructor\n",
    "    @classmethod\n",
    "    def today(cls):\n",
    "        t = time.localtime()\n",
    "        return cls(t.tm_year, t.tm_mon, t.tm_mday)\n",
    "\n",
    "regDate = Date(2022,10,10)\n",
    "todayDate = Date.today()"
   ]
  },
  {
   "cell_type": "code",
   "execution_count": 2,
   "id": "6d7250b5",
   "metadata": {},
   "outputs": [],
   "source": [
    "# 8.17 use __new__() to create instance without __init__()\n",
    "d = Date.__new__(Date)"
   ]
  },
  {
   "cell_type": "code",
   "execution_count": 3,
   "id": "050d8f78",
   "metadata": {},
   "outputs": [
    {
     "data": {
      "text/plain": [
       "<__main__.Date at 0x24db343b700>"
      ]
     },
     "execution_count": 3,
     "metadata": {},
     "output_type": "execute_result"
    }
   ],
   "source": [
    "# Item is created, but no value\n",
    "d"
   ]
  },
  {
   "cell_type": "code",
   "execution_count": 4,
   "id": "5a8fffb5",
   "metadata": {},
   "outputs": [
    {
     "ename": "AttributeError",
     "evalue": "'Date' object has no attribute 'year'",
     "output_type": "error",
     "traceback": [
      "\u001b[1;31m---------------------------------------------------------------------------\u001b[0m",
      "\u001b[1;31mAttributeError\u001b[0m                            Traceback (most recent call last)",
      "\u001b[1;32m~\\AppData\\Local\\Temp/ipykernel_9396/3565959485.py\u001b[0m in \u001b[0;36m<module>\u001b[1;34m\u001b[0m\n\u001b[1;32m----> 1\u001b[1;33m \u001b[0md\u001b[0m\u001b[1;33m.\u001b[0m\u001b[0myear\u001b[0m\u001b[1;33m\u001b[0m\u001b[1;33m\u001b[0m\u001b[0m\n\u001b[0m",
      "\u001b[1;31mAttributeError\u001b[0m: 'Date' object has no attribute 'year'"
     ]
    }
   ],
   "source": [
    "d.year"
   ]
  },
  {
   "cell_type": "code",
   "execution_count": 5,
   "id": "4db1f264",
   "metadata": {},
   "outputs": [],
   "source": [
    "# Set data for d\n",
    "data = {'year':2012, 'month':8, 'day':29}\n",
    "for key, value in data.items():\n",
    "    setattr(d, key, value)"
   ]
  },
  {
   "cell_type": "code",
   "execution_count": 21,
   "id": "3444c030",
   "metadata": {},
   "outputs": [],
   "source": [
    "# 8.18 Extend class with mixins. Useful when extending classes arent related via inheritance\n",
    "class LoggedMappingMixin:\n",
    "    '''\n",
    "    Add logging to get/set/delete operations for debugging.\n",
    "    '''\n",
    "    __slots__ = ()\n",
    "    def __getitem__(self, key):\n",
    "        print('Getting ' + str(key))\n",
    "        return super().__getitem__(key)\n",
    "    def __setitem__(self, key, value):\n",
    "        print('Setting {} = {!r}'.format(key, value))\n",
    "        return super().__setitem__(key, value)\n",
    "    def __delitem__(self, key):\n",
    "        print('Deleting ' + str(key))\n",
    "        return super().__delitem__(key)\n",
    "class SetOnceMappingMixin:\n",
    "    '''\n",
    "    Only allow a key to be set once.\n",
    "    '''\n",
    "    __slots__ = ()\n",
    "    def __setitem__(self, key, value):\n",
    "        if key in self:\n",
    "            raise KeyError(str(key) + ' already set')\n",
    "        return super().__setitem__(key, value)\n",
    "class StringKeysMappingMixin:\n",
    "    '''\n",
    "    Restrict keys to strings only\n",
    "    '''\n",
    "    __slots__ = ()\n",
    "    def __setitem__(self, key, value):\n",
    "        if not isinstance(key, str):\n",
    "            raise TypeError('keys must be strings')\n",
    "        return super().__setitem__(key, value)"
   ]
  },
  {
   "cell_type": "code",
   "execution_count": 22,
   "id": "e61baea7",
   "metadata": {},
   "outputs": [
    {
     "ename": "IndentationError",
     "evalue": "expected an indented block (Temp/ipykernel_23576/1378305548.py, line 3)",
     "output_type": "error",
     "traceback": [
      "\u001b[1;36m  File \u001b[1;32m\"C:\\Users\\mcsle\\AppData\\Local\\Temp/ipykernel_23576/1378305548.py\"\u001b[1;36m, line \u001b[1;32m3\u001b[0m\n\u001b[1;33m    pass\u001b[0m\n\u001b[1;37m    ^\u001b[0m\n\u001b[1;31mIndentationError\u001b[0m\u001b[1;31m:\u001b[0m expected an indented block\n"
     ]
    }
   ],
   "source": [
    "# Example of implementation: mixes these classes above with mapping class\n",
    ">>> class LoggedDict(LoggedMappingMixin, dict):\n",
    "... pass\n",
    "...\n",
    ">>> d = LoggedDict()\n",
    ">>> d['x'] = 23\n",
    "Setting x = 23\n",
    ">>> d['x']\n",
    "Getting x\n",
    "23\n",
    ">>> del d['x']\n",
    "Deleting x\n",
    ">>> from collections import defaultdict\n",
    ">>> class SetOnceDefaultDict(SetOnceMappingMixin, defaultdict):\n",
    "... pass\n",
    "...\n",
    ">>> d = SetOnceDefaultDict(list)\n",
    ">>> d['x'].append(2)\n",
    ">>> d['y'].append(3)\n",
    ">>> d['x'].append(10)\n",
    ">>> d['x'] = 23\n",
    "Traceback (most recent call last):\n",
    "File \"<stdin>\", line 1, in <module>\n",
    "File \"mixin.py\", line 24, in __setitem__\n",
    "raise KeyError(str(key) + ' already set')\n",
    "KeyError: 'x already set'\n",
    ">>> from collections import OrderedDict\n",
    ">>> class StringOrderedDict(StringKeysMappingMixin, SetOnceMappingMixin, OrderedDict):\n",
    "        pass\n",
    "...\n",
    ">>> d = StringOrderedDict()\n",
    ">>> d['x'] = 23\n",
    ">>> d[42] = 10\n",
    "Traceback (most recent call last):\n",
    "    File \"<stdin>\", line 1, in <module>\n",
    "    File \"mixin.py\", line 45, in __setitem__\n",
    "    \n",
    "TypeError: keys must be strings\n",
    ">>> d['x'] = 42\n",
    "Traceback (most recent call last):\n",
    "File \"<stdin>\", line 1, in <module>\n",
    "File \"mixin.py\", line 46, in __setitem__\n",
    "__slots__ = ()\n",
    "File \"mixin.py\", line 24, in __setitem__\n",
    "if key in self:\n",
    "KeyError: 'x already set'\n",
    ">>>"
   ]
  },
  {
   "cell_type": "code",
   "execution_count": 6,
   "id": "b9f4ad4a",
   "metadata": {},
   "outputs": [],
   "source": [
    "# 8.19 Stateful Objects or State Machines\n",
    "class Connection:\n",
    "    def __init__(self):\n",
    "        self.new_state(ClosedConnectionState)\n",
    "    def new_state(self, newstate):\n",
    "        self._state = newstate\n",
    "    # Delegate to the state class\n",
    "    def read(self):\n",
    "        return self._state.read(self)\n",
    "    def write(self, data):\n",
    "        return self._state.write(self, data)\n",
    "    def open(self):\n",
    "        return self._state.open(self)\n",
    "    def close(self):\n",
    "        return self._state.close(self)\n",
    "# Connection state base class\n",
    "class ConnectionState:\n",
    "    @staticmethod\n",
    "    def read(conn):\n",
    "        raise NotImplementedError()\n",
    "    @staticmethod\n",
    "    def write(conn, data):\n",
    "        raise NotImplementedError()\n",
    "    @staticmethod\n",
    "    def open(conn):\n",
    "        raise NotImplementedError()\n",
    "    @staticmethod\n",
    "    def close(conn):\n",
    "        raise NotImplementedError()\n",
    "# Implementation of different states\n",
    "class ClosedConnectionState(ConnectionState):\n",
    "    @staticmethod\n",
    "    def read(conn):\n",
    "        raise RuntimeError('Not open')\n",
    "    @staticmethod\n",
    "    def write(conn, data):\n",
    "        raise RuntimeError('Not open')\n",
    "    @staticmethod\n",
    "    def open(conn):\n",
    "        conn.new_state(OpenConnectionState)\n",
    "    @staticmethod\n",
    "    def close(conn):\n",
    "        raise RuntimeError('Already closed')\n",
    "class OpenConnectionState(ConnectionState):\n",
    "    @staticmethod\n",
    "    def read(conn):\n",
    "        print('reading')\n",
    "    @staticmethod\n",
    "    def write(conn, data):\n",
    "        print('writing')\n",
    "    @staticmethod\n",
    "    def open(conn):\n",
    "        raise RuntimeError('Already open')\n",
    "    @staticmethod\n",
    "    def close(conn):\n",
    "        conn.new_state(ClosedConnectionState)"
   ]
  },
  {
   "cell_type": "code",
   "execution_count": null,
   "id": "357d3bdc",
   "metadata": {},
   "outputs": [],
   "source": [
    "# 8.20 call method of object given name as a string\n",
    "import math\n",
    "class Point:\n",
    "    def __init__(self, x, y):\n",
    "        self.x = x\n",
    "        self.y = y\n",
    "    def __repr__(self):\n",
    "        return 'Point({!r:},{!r:})'.format(self.x, self.y)\n",
    "    def distance(self, x, y):\n",
    "        return math.hypot(self.x - x, self.y - y)\n",
    "p = Point(2, 3)\n",
    "d = getattr(p, 'distance')(0, 0) # Calls p.distance(0, 0)"
   ]
  },
  {
   "cell_type": "markdown",
   "id": "03614f74",
   "metadata": {},
   "source": []
  },
  {
   "cell_type": "code",
   "execution_count": 7,
   "id": "ab84c18f",
   "metadata": {},
   "outputs": [],
   "source": [
    "# 8.21 Visitor pattern\n",
    "# Example: class that translate expression into operations in a stack machine\n",
    "class Node:\n",
    "    pass\n",
    "class UnaryOperator(Node):\n",
    "    def __init__(self, operand):\n",
    "        self.operand = operand\n",
    "class BinaryOperator(Node):\n",
    "    def __init__(self, left, right):\n",
    "        self.left = left\n",
    "        self.right = right\n",
    "class Add(BinaryOperator):\n",
    "    pass\n",
    "class Sub(BinaryOperator):\n",
    "    pass\n",
    "class Mul(BinaryOperator):\n",
    "    pass\n",
    "class Div(BinaryOperator):\n",
    "    pass\n",
    "class Negate(UnaryOperator):\n",
    "    pass\n",
    "class Number(Node):\n",
    "    def __init__(self, value):\n",
    "        self.value = value\n",
    "class NodeVisitor: # Vistor pattern\n",
    "    def visit(self, node):\n",
    "        methname = 'visit_' + type(node).__name__\n",
    "        meth = getattr(self, methname, None) \n",
    "        if meth is None:\n",
    "            meth = self.generic_visit\n",
    "        return meth(node)\n",
    "    def generic_visit(self, node):\n",
    "        raise RuntimeError('No {} method'.format('visit_' + type(node).__name__))\n",
    "class Evaluator(NodeVisitor): # Use visitor\n",
    "    def visit_Number(self, node):\n",
    "        return node.value\n",
    "    def visit_Add(self, node):\n",
    "        return self.visit(node.left) + self.visit(node.right)\n",
    "    def visit_Sub(self, node):\n",
    "        return self.visit(node.left) - self.visit(node.right)\n",
    "    def visit_Mul(self, node):\n",
    "        return self.visit(node.left) * self.visit(node.right)\n",
    "    def visit_Div(self, node):\n",
    "        return self.visit(node.left) / self.visit(node.right)\n",
    "    def visit_Negate(self, node):\n",
    "        return -node.operand"
   ]
  },
  {
   "cell_type": "code",
   "execution_count": 8,
   "id": "c2f5260a",
   "metadata": {},
   "outputs": [
    {
     "data": {
      "text/plain": [
       "0.6"
      ]
     },
     "execution_count": 8,
     "metadata": {},
     "output_type": "execute_result"
    }
   ],
   "source": [
    "# Representation of 1 + 2 * (3 - 4) / 5\n",
    "t1 = Sub(Number(3), Number(4))\n",
    "t2 = Mul(Number(2), t1)\n",
    "t3 = Div(t2, Number(5))\n",
    "t4 = Add(Number(1), t3)\n",
    "e = Evaluator()\n",
    "e.visit(t4)"
   ]
  },
  {
   "cell_type": "code",
   "execution_count": null,
   "id": "15d172cf",
   "metadata": {},
   "outputs": [],
   "source": [
    "# 8.23 Generators+ stack for visitor pattern w/o recursion\n",
    "# Replace NodeVisitor above\n",
    "import types\n",
    "class NodeVisitor:\n",
    "    def visit(self, node):\n",
    "        stack = [ node ]\n",
    "        last_result = None\n",
    "        while stack:\n",
    "            try:\n",
    "                last = stack[-1]\n",
    "                if isinstance(last, types.GeneratorType):\n",
    "                    stack.append(last.send(last_result))\n",
    "                    last_result = None\n",
    "                elif isinstance(last, Node):\n",
    "                    stack.append(self._visit(stack.pop()))\n",
    "                else:\n",
    "                    last_result = stack.pop()\n",
    "            except StopIteration:\n",
    "                stack.pop()\n",
    "        return last_result"
   ]
  },
  {
   "cell_type": "code",
   "execution_count": null,
   "id": "72a92012",
   "metadata": {},
   "outputs": [],
   "source": [
    "# 8.23 cyclic data creation with less memory problems\n",
    "# Ex: cyclic data struct (child node connect to parent)\n",
    "# Use weakref to parent node \n",
    "import weakref\n",
    "class Node:\n",
    "    def __init__(self, value):\n",
    "        self.value = value\n",
    "        self._parent = None\n",
    "        self.children = []\n",
    "    def __repr__(self):\n",
    "        return 'Node({!r:})'.format(self.value)\n",
    "    # property that manages the parent as a weak-reference\n",
    "    @property\n",
    "    def parent(self):\n",
    "        return self._parent if self._parent is None else self._parent()\n",
    "    @parent.setter\n",
    "    def parent(self, node):\n",
    "        self._parent = weakref.ref(node)\n",
    "    def add_child(self, child):\n",
    "        self.children.append(child)\n",
    "        child.parent = self"
   ]
  },
  {
   "cell_type": "code",
   "execution_count": null,
   "id": "894045a5",
   "metadata": {},
   "outputs": [],
   "source": []
  },
  {
   "cell_type": "code",
   "execution_count": 10,
   "id": "bac990fa",
   "metadata": {},
   "outputs": [
    {
     "name": "stdout",
     "output_type": "stream",
     "text": [
      "True\n",
      "True\n"
     ]
    }
   ],
   "source": [
    "#8.24 Make classes support comparision operator (>=. >...)\n",
    "# implement __ge__, __eq__, __le__, __gt__ or __lt__\n",
    "\n",
    "class Item: \n",
    "    def __eq__(self, other):\n",
    "        return True\n",
    "class alternateItem(Item):\n",
    "    def __ge__(self, other):\n",
    "        return True\n",
    "item1 = Item()\n",
    "item2 = alternateItem()\n",
    "# print(item1>=item2) Not supported\n",
    "print(item1==item2) #True\n",
    "print(item2>=item2) #True"
   ]
  },
  {
   "cell_type": "code",
   "execution_count": 11,
   "id": "9f2dbf9d",
   "metadata": {},
   "outputs": [],
   "source": [
    "# 8.25 Cached instance\n",
    "# The class in question\n",
    "class Spam:\n",
    "    def __init__(self, name):\n",
    "        self.name = name\n",
    "# Caching support \n",
    "import weakref\n",
    "_spam_cache = weakref.WeakValueDictionary()\n",
    "def get_spam(name):\n",
    "    if name not in _spam_cache:\n",
    "        s = Spam(name)\n",
    "        _spam_cache[name] = s\n",
    "    else:\n",
    "        s = _spam_cache[name]\n",
    "    return s"
   ]
  },
  {
   "cell_type": "code",
   "execution_count": null,
   "id": "bca792cc",
   "metadata": {},
   "outputs": [],
   "source": []
  }
 ],
 "metadata": {
  "kernelspec": {
   "display_name": "Python 3 (ipykernel)",
   "language": "python",
   "name": "python3"
  },
  "language_info": {
   "codemirror_mode": {
    "name": "ipython",
    "version": 3
   },
   "file_extension": ".py",
   "mimetype": "text/x-python",
   "name": "python",
   "nbconvert_exporter": "python",
   "pygments_lexer": "ipython3",
   "version": "3.9.7"
  }
 },
 "nbformat": 4,
 "nbformat_minor": 5
}
